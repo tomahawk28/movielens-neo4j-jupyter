{
 "cells": [
  {
   "cell_type": "code",
   "execution_count": 1,
   "metadata": {},
   "outputs": [],
   "source": [
    "from movielens import MovieLens\n",
    "import pandas as pd"
   ]
  },
  {
   "cell_type": "code",
   "execution_count": 2,
   "metadata": {},
   "outputs": [],
   "source": [
    "lens = MovieLens(\"neo4j\")"
   ]
  },
  {
   "cell_type": "markdown",
   "metadata": {},
   "source": [
    "### Find out movies' name which contains \"pacific\" (Case in-sensitive) "
   ]
  },
  {
   "cell_type": "code",
   "execution_count": 3,
   "metadata": {},
   "outputs": [
    {
     "data": {
      "text/html": [
       "<div>\n",
       "<table border=\"1\" class=\"dataframe\">\n",
       "  <thead>\n",
       "    <tr style=\"text-align: right;\">\n",
       "      <th></th>\n",
       "      <th>movieId</th>\n",
       "      <th>title</th>\n",
       "    </tr>\n",
       "  </thead>\n",
       "  <tbody>\n",
       "    <tr>\n",
       "      <th>0</th>\n",
       "      <td>25878</td>\n",
       "      <td>Across the Pacific (1942)</td>\n",
       "    </tr>\n",
       "    <tr>\n",
       "      <th>1</th>\n",
       "      <td>3143</td>\n",
       "      <td>Hell in the Pacific (1968)</td>\n",
       "    </tr>\n",
       "    <tr>\n",
       "      <th>2</th>\n",
       "      <td>90260</td>\n",
       "      <td>Hotel Pacific (Zaklete rewiry) (1975)</td>\n",
       "    </tr>\n",
       "    <tr>\n",
       "      <th>3</th>\n",
       "      <td>6435</td>\n",
       "      <td>Operation Pacific (1951)</td>\n",
       "    </tr>\n",
       "    <tr>\n",
       "      <th>4</th>\n",
       "      <td>3219</td>\n",
       "      <td>Pacific Heights (1990)</td>\n",
       "    </tr>\n",
       "    <tr>\n",
       "      <th>5</th>\n",
       "      <td>103228</td>\n",
       "      <td>Pacific Rim (2013)</td>\n",
       "    </tr>\n",
       "    <tr>\n",
       "      <th>6</th>\n",
       "      <td>129843</td>\n",
       "      <td>Plastic Paradise: The Great Pacific Garbage Pa...</td>\n",
       "    </tr>\n",
       "    <tr>\n",
       "      <th>7</th>\n",
       "      <td>87435</td>\n",
       "      <td>Sergeant Körmy and the South Pacific (Vääpeli ...</td>\n",
       "    </tr>\n",
       "    <tr>\n",
       "      <th>8</th>\n",
       "      <td>2941</td>\n",
       "      <td>South Pacific (1958)</td>\n",
       "    </tr>\n",
       "    <tr>\n",
       "      <th>9</th>\n",
       "      <td>126430</td>\n",
       "      <td>The Pacific (2010)</td>\n",
       "    </tr>\n",
       "  </tbody>\n",
       "</table>\n",
       "</div>"
      ],
      "text/plain": [
       "  movieId                                              title\n",
       "0   25878                          Across the Pacific (1942)\n",
       "1    3143                         Hell in the Pacific (1968)\n",
       "2   90260              Hotel Pacific (Zaklete rewiry) (1975)\n",
       "3    6435                           Operation Pacific (1951)\n",
       "4    3219                             Pacific Heights (1990)\n",
       "5  103228                                 Pacific Rim (2013)\n",
       "6  129843  Plastic Paradise: The Great Pacific Garbage Pa...\n",
       "7   87435  Sergeant Körmy and the South Pacific (Vääpeli ...\n",
       "8    2941                               South Pacific (1958)\n",
       "9  126430                                 The Pacific (2010)"
      ]
     },
     "execution_count": 3,
     "metadata": {},
     "output_type": "execute_result"
    }
   ],
   "source": [
    "pd.DataFrame(lens.find_movies_by_name(\"pacific\"))"
   ]
  },
  {
   "cell_type": "markdown",
   "metadata": {},
   "source": [
    "### Find out movies' name which contains \"Phenomenon\" (Case sensitive) "
   ]
  },
  {
   "cell_type": "code",
   "execution_count": 4,
   "metadata": {},
   "outputs": [
    {
     "data": {
      "text/html": [
       "<div>\n",
       "<table border=\"1\" class=\"dataframe\">\n",
       "  <thead>\n",
       "    <tr style=\"text-align: right;\">\n",
       "      <th></th>\n",
       "      <th>movieId</th>\n",
       "      <th>title</th>\n",
       "    </tr>\n",
       "  </thead>\n",
       "  <tbody>\n",
       "    <tr>\n",
       "      <th>0</th>\n",
       "      <td>802</td>\n",
       "      <td>Phenomenon (1996)</td>\n",
       "    </tr>\n",
       "  </tbody>\n",
       "</table>\n",
       "</div>"
      ],
      "text/plain": [
       "  movieId              title\n",
       "0     802  Phenomenon (1996)"
      ]
     },
     "execution_count": 4,
     "metadata": {},
     "output_type": "execute_result"
    }
   ],
   "source": [
    "pd.DataFrame(lens.find_movies_by_name(\"Phenomenon\", case_insensitive=True))"
   ]
  },
  {
   "cell_type": "markdown",
   "metadata": {},
   "source": [
    "# Find a movie with exact ID \n",
    "###  What is the movie name of which has movieId as 6000?"
   ]
  },
  {
   "cell_type": "code",
   "execution_count": 13,
   "metadata": {},
   "outputs": [
    {
     "data": {
      "text/html": [
       "<div>\n",
       "<table border=\"1\" class=\"dataframe\">\n",
       "  <thead>\n",
       "    <tr style=\"text-align: right;\">\n",
       "      <th></th>\n",
       "      <th>average_rate</th>\n",
       "      <th>count</th>\n",
       "      <th>movieId</th>\n",
       "      <th>title</th>\n",
       "    </tr>\n",
       "  </thead>\n",
       "  <tbody>\n",
       "    <tr>\n",
       "      <th>0</th>\n",
       "      <td>4.174231</td>\n",
       "      <td>67310</td>\n",
       "      <td>296</td>\n",
       "      <td>Pulp Fiction (1994)</td>\n",
       "    </tr>\n",
       "  </tbody>\n",
       "</table>\n",
       "</div>"
      ],
      "text/plain": [
       "   average_rate  count movieId                title\n",
       "0      4.174231  67310     296  Pulp Fiction (1994)"
      ]
     },
     "execution_count": 13,
     "metadata": {},
     "output_type": "execute_result"
    }
   ],
   "source": [
    "pd.DataFrame(lens.find_movie_by_id(\"296\"))"
   ]
  },
  {
   "cell_type": "markdown",
   "metadata": {},
   "source": [
    "So average rate is 4.17, and total number of rating is 67,310. "
   ]
  },
  {
   "cell_type": "markdown",
   "metadata": {},
   "source": [
    "# Recommendation"
   ]
  },
  {
   "cell_type": "markdown",
   "metadata": {},
   "source": [
    "### I like Pulp fiction (296), Phenomenon (802), What movie you can recommend it to me?"
   ]
  },
  {
   "cell_type": "code",
   "execution_count": 5,
   "metadata": {},
   "outputs": [
    {
     "data": {
      "text/html": [
       "<div>\n",
       "<table border=\"1\" class=\"dataframe\">\n",
       "  <thead>\n",
       "    <tr style=\"text-align: right;\">\n",
       "      <th></th>\n",
       "      <th>average_rate</th>\n",
       "      <th>count</th>\n",
       "      <th>movieId</th>\n",
       "      <th>title</th>\n",
       "    </tr>\n",
       "  </thead>\n",
       "  <tbody>\n",
       "    <tr>\n",
       "      <th>0</th>\n",
       "      <td>4.576798</td>\n",
       "      <td>19727</td>\n",
       "      <td>318</td>\n",
       "      <td>Shawshank Redemption, The (1994)</td>\n",
       "    </tr>\n",
       "    <tr>\n",
       "      <th>1</th>\n",
       "      <td>4.519893</td>\n",
       "      <td>17343</td>\n",
       "      <td>50</td>\n",
       "      <td>Usual Suspects, The (1995)</td>\n",
       "    </tr>\n",
       "    <tr>\n",
       "      <th>2</th>\n",
       "      <td>4.599935</td>\n",
       "      <td>12253</td>\n",
       "      <td>858</td>\n",
       "      <td>Godfather, The (1972)</td>\n",
       "    </tr>\n",
       "    <tr>\n",
       "      <th>3</th>\n",
       "      <td>4.562500</td>\n",
       "      <td>8</td>\n",
       "      <td>106503</td>\n",
       "      <td>Enemies of Reason, The (2007)</td>\n",
       "    </tr>\n",
       "    <tr>\n",
       "      <th>4</th>\n",
       "      <td>4.500000</td>\n",
       "      <td>7</td>\n",
       "      <td>101850</td>\n",
       "      <td>Death on the Staircase (Soupçons) (2004)</td>\n",
       "    </tr>\n",
       "    <tr>\n",
       "      <th>5</th>\n",
       "      <td>4.583333</td>\n",
       "      <td>6</td>\n",
       "      <td>26416</td>\n",
       "      <td>Best Boy (1979)</td>\n",
       "    </tr>\n",
       "    <tr>\n",
       "      <th>6</th>\n",
       "      <td>4.800000</td>\n",
       "      <td>5</td>\n",
       "      <td>78064</td>\n",
       "      <td>Ween Live in Chicago (2004)</td>\n",
       "    </tr>\n",
       "  </tbody>\n",
       "</table>\n",
       "</div>"
      ],
      "text/plain": [
       "   average_rate  count movieId                                     title\n",
       "0      4.576798  19727     318          Shawshank Redemption, The (1994)\n",
       "1      4.519893  17343      50                Usual Suspects, The (1995)\n",
       "2      4.599935  12253     858                     Godfather, The (1972)\n",
       "3      4.562500      8  106503             Enemies of Reason, The (2007)\n",
       "4      4.500000      7  101850  Death on the Staircase (Soupçons) (2004)\n",
       "5      4.583333      6   26416                           Best Boy (1979)\n",
       "6      4.800000      5   78064               Ween Live in Chicago (2004)"
      ]
     },
     "execution_count": 5,
     "metadata": {},
     "output_type": "execute_result"
    }
   ],
   "source": [
    "pd.DataFrame(lens.recommendation(['296', '802'], rating=4.5, limit=7))"
   ]
  },
  {
   "cell_type": "markdown",
   "metadata": {},
   "source": [
    "Based on users who give good rates to \"Pulp finction\" & \"Phenomenon\" (both starred by John Travolta), \n",
    "we can search other movies which they give generous score already. \n",
    "\n",
    "So *Shawshank Redemption*, *Usual Suspects*, *Godfather* is top 3 recommendation for those people, like me. "
   ]
  },
  {
   "cell_type": "markdown",
   "metadata": {},
   "source": [
    "### I like Pendorum (71135), Prometheus (94864), What **SF movie** you can recommend it to me?"
   ]
  },
  {
   "cell_type": "code",
   "execution_count": 4,
   "metadata": {},
   "outputs": [
    {
     "data": {
      "text/html": [
       "<div>\n",
       "<table border=\"1\" class=\"dataframe\">\n",
       "  <thead>\n",
       "    <tr style=\"text-align: right;\">\n",
       "      <th></th>\n",
       "      <th>average_rate</th>\n",
       "      <th>count</th>\n",
       "      <th>movieId</th>\n",
       "      <th>title</th>\n",
       "    </tr>\n",
       "  </thead>\n",
       "  <tbody>\n",
       "    <tr>\n",
       "      <th>0</th>\n",
       "      <td>4.586667</td>\n",
       "      <td>150</td>\n",
       "      <td>2571</td>\n",
       "      <td>Matrix, The (1999)</td>\n",
       "    </tr>\n",
       "    <tr>\n",
       "      <th>1</th>\n",
       "      <td>4.503597</td>\n",
       "      <td>139</td>\n",
       "      <td>79132</td>\n",
       "      <td>Inception (2010)</td>\n",
       "    </tr>\n",
       "    <tr>\n",
       "      <th>2</th>\n",
       "      <td>4.553435</td>\n",
       "      <td>131</td>\n",
       "      <td>1214</td>\n",
       "      <td>Alien (1979)</td>\n",
       "    </tr>\n",
       "    <tr>\n",
       "      <th>3</th>\n",
       "      <td>4.534091</td>\n",
       "      <td>44</td>\n",
       "      <td>27611</td>\n",
       "      <td>Battlestar Galactica (2003)</td>\n",
       "    </tr>\n",
       "    <tr>\n",
       "      <th>4</th>\n",
       "      <td>4.709677</td>\n",
       "      <td>31</td>\n",
       "      <td>7099</td>\n",
       "      <td>Nausicaä of the Valley of the Wind (Kaze no ta...</td>\n",
       "    </tr>\n",
       "    <tr>\n",
       "      <th>5</th>\n",
       "      <td>4.653846</td>\n",
       "      <td>26</td>\n",
       "      <td>109487</td>\n",
       "      <td>Interstellar (2014)</td>\n",
       "    </tr>\n",
       "    <tr>\n",
       "      <th>6</th>\n",
       "      <td>4.541667</td>\n",
       "      <td>24</td>\n",
       "      <td>52885</td>\n",
       "      <td>Paprika (Papurika) (2006)</td>\n",
       "    </tr>\n",
       "  </tbody>\n",
       "</table>\n",
       "</div>"
      ],
      "text/plain": [
       "   average_rate  count movieId  \\\n",
       "0      4.586667    150    2571   \n",
       "1      4.503597    139   79132   \n",
       "2      4.553435    131    1214   \n",
       "3      4.534091     44   27611   \n",
       "4      4.709677     31    7099   \n",
       "5      4.653846     26  109487   \n",
       "6      4.541667     24   52885   \n",
       "\n",
       "                                               title  \n",
       "0                                 Matrix, The (1999)  \n",
       "1                                   Inception (2010)  \n",
       "2                                       Alien (1979)  \n",
       "3                        Battlestar Galactica (2003)  \n",
       "4  Nausicaä of the Valley of the Wind (Kaze no ta...  \n",
       "5                                Interstellar (2014)  \n",
       "6                          Paprika (Papurika) (2006)  "
      ]
     },
     "execution_count": 4,
     "metadata": {},
     "output_type": "execute_result"
    }
   ],
   "source": [
    "pd.DataFrame(lens.recommendation(['94864', '71135'], rating=4.5, limit=7, category='Sci-Fi'))"
   ]
  },
  {
   "cell_type": "markdown",
   "metadata": {},
   "source": [
    "As you see above, you only get the recommendation of Sci-fi, you can also pu"
   ]
  }
 ],
 "metadata": {
  "kernelspec": {
   "display_name": "Python 3",
   "language": "python",
   "name": "python3"
  },
  "language_info": {
   "codemirror_mode": {
    "name": "ipython",
    "version": 3
   },
   "file_extension": ".py",
   "mimetype": "text/x-python",
   "name": "python",
   "nbconvert_exporter": "python",
   "pygments_lexer": "ipython3",
   "version": "3.6.5"
  }
 },
 "nbformat": 4,
 "nbformat_minor": 2
}
